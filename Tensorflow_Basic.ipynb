{
  "cells": [
    {
      "cell_type": "markdown",
      "metadata": {
        "id": "view-in-github",
        "colab_type": "text"
      },
      "source": [
        "<a href=\"https://colab.research.google.com/github/DPSharma-AI/Heroku-Demo/blob/main/Tensorflow_Basic.ipynb\" target=\"_parent\"><img src=\"https://colab.research.google.com/assets/colab-badge.svg\" alt=\"Open In Colab\"/></a>"
      ]
    },
    {
      "cell_type": "code",
      "source": [
        "from google.colab import drive\n",
        "drive.mount('/content/drive')"
      ],
      "metadata": {
        "colab": {
          "base_uri": "https://localhost:8080/"
        },
        "id": "QXztm0maQJzT",
        "outputId": "8dc9ac50-d45c-4414-febb-67a7b3e2228d"
      },
      "id": "QXztm0maQJzT",
      "execution_count": 2,
      "outputs": [
        {
          "output_type": "stream",
          "name": "stdout",
          "text": [
            "Mounted at /content/drive\n"
          ]
        }
      ]
    },
    {
      "cell_type": "markdown",
      "id": "cdaf33ef",
      "metadata": {
        "id": "cdaf33ef"
      },
      "source": [
        "### tf.constant():\n",
        "tf.constant(value, dtype=None, shape=None, name=None)\n",
        "\n",
        "- value is the constant value that will be used to create the tensor.\n",
        "- dtype is the data type of the tensor. If dtype is not specified, the data type of value will be used.\n",
        "- shape is the shape of the tensor. If shape is not specified, the tensor will have a shape of [].\n",
        "- name is the name of the tensor. If name is not specified, a default name will be generated."
      ]
    },
    {
      "cell_type": "markdown",
      "id": "28f1714d",
      "metadata": {
        "id": "28f1714d"
      },
      "source": [
        "- The tf.constant() function can be used to create tensors from a variety of different types of values, including:\n",
        "\n",
        "    - Numbers\n",
        "    - Strings\n",
        "    - Lists\n",
        "    - Tuples\n",
        "    - NumPy arrays\n",
        "    - Series"
      ]
    },
    {
      "cell_type": "code",
      "execution_count": null,
      "id": "2604739c",
      "metadata": {
        "id": "2604739c"
      },
      "outputs": [],
      "source": [
        "# Import TensorFlow\n",
        "import tensorflow as tf\n",
        "import numpy as np\n",
        "import pandas as pd\n",
        "# Create a scalar tensor\n",
        "scalar_tensor = tf.constant(1.0)\n",
        "print(\"scalar_tensor :\", scalar_tensor)\n",
        "print(\"Data_type :\", scalar_tensor.dtype)\n",
        "print(\"Shape :\", scalar_tensor.shape)\n",
        "\n",
        "# Create a scalar tensor\n",
        "scalar_tensor = tf.constant(\"1.0\",name=\"scalar_tensor\",dtype=tf.string) # Here data type must match with the value type.\n",
        "print(\"scalar_tensor :\", scalar_tensor)\n",
        "print(\"Data_type :\", scalar_tensor.dtype)\n",
        "print(\"Shape :\", scalar_tensor.shape)\n",
        "# print(\"Name :\", scalar_tensor.name) We can define the name at the time of creating the tensor,\n",
        "#                 However printing the name in eage modeis not allowed."
      ]
    },
    {
      "cell_type": "code",
      "execution_count": null,
      "id": "94a5a10a",
      "metadata": {
        "id": "94a5a10a"
      },
      "outputs": [],
      "source": [
        "# Create a vector tensor\n",
        "vector_tensor = tf.constant([1.0, 2.0, 3.0])\n",
        "\n",
        "print(\"scalar_tensor :\", vector_tensor)\n",
        "print(\"Data_type :\", vector_tensor.dtype)\n",
        "print(\"Shape :\", vector_tensor.shape)\n",
        "\n"
      ]
    },
    {
      "cell_type": "code",
      "execution_count": null,
      "id": "287d16f8",
      "metadata": {
        "id": "287d16f8"
      },
      "outputs": [],
      "source": [
        "# Create a matrix tensor\n",
        "matrix_tensor = tf.constant([[1.0, 2.0], [3.0, 4.0]])"
      ]
    },
    {
      "cell_type": "code",
      "execution_count": null,
      "id": "74525eaf",
      "metadata": {
        "id": "74525eaf"
      },
      "outputs": [],
      "source": [
        "# Create a tensor from a list\n",
        "list_tensor = tf.constant([1, 2, 3])"
      ]
    },
    {
      "cell_type": "code",
      "execution_count": null,
      "id": "7fb54478",
      "metadata": {
        "id": "7fb54478"
      },
      "outputs": [],
      "source": [
        "# Create a tensor from a tuple\n",
        "tuple_tensor = tf.constant((1, 2, 3))"
      ]
    },
    {
      "cell_type": "code",
      "execution_count": null,
      "id": "b3bd34ff",
      "metadata": {
        "id": "b3bd34ff"
      },
      "outputs": [],
      "source": [
        "# Create a tensor from a NumPy array\n",
        "numpy_array_tensor = tf.constant(np.array([1, 2, 3]))"
      ]
    },
    {
      "cell_type": "code",
      "execution_count": null,
      "id": "728af3ad",
      "metadata": {
        "id": "728af3ad"
      },
      "outputs": [],
      "source": [
        "# Create a tensor from a pandas Series array\n",
        "numpy_array_tensor = tf.constant(np.array([1, 2, 3]))"
      ]
    },
    {
      "cell_type": "code",
      "execution_count": null,
      "id": "55787bbc",
      "metadata": {
        "id": "55787bbc"
      },
      "outputs": [],
      "source": [
        "# Print the tensors\n",
        "print(scalar_tensor)\n",
        "print(vector_tensor)\n",
        "print(matrix_tensor)\n",
        "print(list_tensor)\n",
        "print(tuple_tensor)\n",
        "print(numpy_array_tensor)"
      ]
    },
    {
      "cell_type": "code",
      "execution_count": null,
      "id": "6bce8178",
      "metadata": {
        "id": "6bce8178"
      },
      "outputs": [],
      "source": [
        "print(scalar_tensor.shape )"
      ]
    },
    {
      "cell_type": "markdown",
      "source": [
        "*The* **Variable()** constructor requires an initial value for the variable, which can be a Tensor of any type and shape. This initial value defines the type and shape of the variable. After construction, the type and shape of the variable are fixed. The value can be changed using one of the assign methods."
      ],
      "metadata": {
        "id": "SyDy4GjK9XXL"
      },
      "id": "SyDy4GjK9XXL"
    },
    {
      "cell_type": "code",
      "execution_count": null,
      "id": "8e0f24f9",
      "metadata": {
        "id": "8e0f24f9"
      },
      "outputs": [],
      "source": [
        "# Create a scalar variable\n",
        "scalar_variable = tf.Variable(1.0)\n",
        "print(scalar_variable.dtype )\n",
        "scalar_variable = tf.Variable(1)\n",
        "print(scalar_variable.dtype )"
      ]
    },
    {
      "cell_type": "code",
      "execution_count": null,
      "id": "885fd8ef",
      "metadata": {
        "id": "885fd8ef"
      },
      "outputs": [],
      "source": [
        "# Create a vector variable\n",
        "vector_variable = tf.Variable([1.0, 2.0, 3.0])\n",
        "print(vector_variable.dtype)\n",
        "vector_variable = tf.Variable([1, 2, 3])\n",
        "print(vector_variable.dtype)"
      ]
    },
    {
      "cell_type": "code",
      "execution_count": null,
      "id": "3fa1fc45",
      "metadata": {
        "id": "3fa1fc45"
      },
      "outputs": [],
      "source": [
        "# Create a matrix variable\n",
        "matrix_variable = tf.Variable([[1.0, 2.0], [3.0, 4.0]])\n",
        "matrix_variable.dtype"
      ]
    },
    {
      "cell_type": "code",
      "execution_count": null,
      "id": "d80e3d88",
      "metadata": {
        "id": "d80e3d88"
      },
      "outputs": [],
      "source": [
        "# Create a variable from a tuple\n",
        "tuple_variable = tf.Variable((1, 2, 3))\n",
        "print(tuple_variable.dtype)\n",
        "tuple_variable = tf.Variable((1.0,2.0,3.0))\n",
        "print(tuple_variable.dtype)"
      ]
    },
    {
      "cell_type": "code",
      "execution_count": null,
      "id": "d06511ec",
      "metadata": {
        "id": "d06511ec"
      },
      "outputs": [],
      "source": [
        "# Create a variable from a NumPy array\n",
        "numpy_array_variable = tf.Variable(np.array([1, 2, 3]))\n",
        "print(numpy_array_variable.dtype)\n",
        "numpy_array_variable = tf.Variable(np.array([1.0,2.0,3.0]))\n",
        "print(numpy_array_variable.dtype)"
      ]
    },
    {
      "cell_type": "code",
      "execution_count": null,
      "id": "b2fe04f4",
      "metadata": {
        "id": "b2fe04f4"
      },
      "outputs": [],
      "source": [
        "# Print the variables\n",
        "print(scalar_variable)\n",
        "print(vector_variable)\n",
        "print(matrix_variable)\n",
        "print(tuple_variable)\n",
        "print(numpy_array_variable)"
      ]
    },
    {
      "cell_type": "code",
      "execution_count": 1,
      "id": "525443ec",
      "metadata": {
        "colab": {
          "base_uri": "https://localhost:8080/",
          "height": 201
        },
        "id": "525443ec",
        "outputId": "fbf5039c-e87e-4fba-f260-2fb02f3199ba"
      },
      "outputs": [
        {
          "output_type": "error",
          "ename": "NameError",
          "evalue": "ignored",
          "traceback": [
            "\u001b[0;31m---------------------------------------------------------------------------\u001b[0m",
            "\u001b[0;31mNameError\u001b[0m                                 Traceback (most recent call last)",
            "\u001b[0;32m<ipython-input-1-ba5a71cc4878>\u001b[0m in \u001b[0;36m<cell line: 1>\u001b[0;34m()\u001b[0m\n\u001b[0;32m----> 1\u001b[0;31m \u001b[0mprint\u001b[0m\u001b[0;34m(\u001b[0m\u001b[0;34m\"scalar_tensor :\"\u001b[0m\u001b[0;34m,\u001b[0m \u001b[0mscalar_variable\u001b[0m\u001b[0;34m)\u001b[0m\u001b[0;34m\u001b[0m\u001b[0;34m\u001b[0m\u001b[0m\n\u001b[0m\u001b[1;32m      2\u001b[0m \u001b[0mprint\u001b[0m\u001b[0;34m(\u001b[0m\u001b[0;34m\"Data_type :\"\u001b[0m\u001b[0;34m,\u001b[0m \u001b[0mscalar_variable\u001b[0m\u001b[0;34m.\u001b[0m\u001b[0mdtype\u001b[0m\u001b[0;34m)\u001b[0m\u001b[0;34m\u001b[0m\u001b[0;34m\u001b[0m\u001b[0m\n\u001b[1;32m      3\u001b[0m \u001b[0mprint\u001b[0m\u001b[0;34m(\u001b[0m\u001b[0;34m\"Shape :\"\u001b[0m\u001b[0;34m,\u001b[0m \u001b[0mscalar_variable\u001b[0m\u001b[0;34m.\u001b[0m\u001b[0mshape\u001b[0m\u001b[0;34m)\u001b[0m\u001b[0;34m\u001b[0m\u001b[0;34m\u001b[0m\u001b[0m\n",
            "\u001b[0;31mNameError\u001b[0m: name 'scalar_variable' is not defined"
          ]
        }
      ],
      "source": [
        "print(\"scalar_tensor :\", scalar_variable)\n",
        "print(\"Data_type :\", scalar_variable.dtype)\n",
        "print(\"Shape :\", scalar_variable.shape)"
      ]
    },
    {
      "cell_type": "code",
      "execution_count": null,
      "id": "649a7224",
      "metadata": {
        "id": "649a7224"
      },
      "outputs": [],
      "source": [
        "# Create a scalar variable\n",
        "scalar_variable = tf.Variable(1,dtype=tf.int64)"
      ]
    },
    {
      "cell_type": "code",
      "execution_count": null,
      "id": "99e5329a",
      "metadata": {
        "id": "99e5329a"
      },
      "outputs": [],
      "source": [
        "scalar_variable"
      ]
    },
    {
      "cell_type": "markdown",
      "id": "8627a691",
      "metadata": {
        "id": "8627a691"
      },
      "source": [
        "<html>\n",
        "<head>\n",
        "<title>tf.constant() vs tf.Variable()</title>\n",
        "</head>\n",
        "<body>\n",
        "<h1>tf.constant() vs tf.Variable()</h1>\n",
        "<p>The main difference between tf.constant() and tf.Variable() in TensorFlow lies in their mutability and usage within a computational graph.</p>\n",
        "<p>Immutability:</p>\n",
        "<ul>\n",
        "<li><code>tf.constant()</code> creates an immutable tensor, meaning its value cannot be changed after creation.</li>\n",
        "<li><code>tf.Variable()</code> creates a mutable tensor that allows its value to be modified during training or computation.</li>\n",
        "</ul>\n",
        "<p>Graph construction:</p>\n",
        "<ul>\n",
        "<li><code>tf.constant()</code> creates a constant tensor directly as a part of the TensorFlow graph. Its value is stored directly within the graph structure.</li>\n",
        "<li><code>tf.Variable()</code> creates a variable tensor that can be used to store and update values during graph execution. It is typically used for trainable variables, such as weights and biases in neural networks.</li>\n",
        "</ul>\n",
        "<p>Initialization:</p>\n",
        "<ul>\n",
        "<li><code>tf.constant()</code> tensors are initialized with specific values provided during creation. Once created, their values remain fixed throughout the execution of the program.</li>\n",
        "<li><code>tf.Variable()</code> tensors are typically initialized with an initial value but can be further modified or assigned new values during the execution of the program using methods like <code>assign()</code> or <code>assign_add()</code>.</li>\n",
        "</ul>\n",
        "<p>Automatic differentiation:</p>\n",
        "<ul>\n",
        "<li><code>tf.constant()</code> tensors are not typically used for storing trainable parameters, and they do not participate in automatic differentiation for gradient computation.</li>\n",
        "<li><code>tf.Variable()</code> tensors are designed for trainable parameters. They can participate in automatic differentiation, allowing gradients to flow through them during backpropagation.</li>\n",
        "</ul>\n",
        "<p>To summarize, <code>tf.constant()</code> is used for fixed, immutable values within the graph, while <code>tf.Variable()</code> is used for mutable, trainable parameters.</p>\n",
        "</body>\n",
        "</html>\n"
      ]
    },
    {
      "cell_type": "markdown",
      "id": "44f4d74f",
      "metadata": {
        "id": "44f4d74f"
      },
      "source": [
        "To convert a tf.constant to a tf.Variable, you can use the tf.Variable() function with the tf.constant() tensor as the argument. The tf.Variable() function will create a new variable with the same value as the tf.constant() tensor."
      ]
    },
    {
      "cell_type": "code",
      "execution_count": null,
      "id": "bc0100a8",
      "metadata": {
        "id": "bc0100a8"
      },
      "outputs": [],
      "source": [
        "import tensorflow as tf\n",
        "\n",
        "# Create a constant tensor\n",
        "constant_tensor = tf.constant(10)\n",
        "\n",
        "# Create a variable tensor from the constant tensor\n",
        "variable_tensor = tf.Variable(constant_tensor)\n"
      ]
    },
    {
      "cell_type": "code",
      "execution_count": null,
      "id": "8d5543f0",
      "metadata": {
        "id": "8d5543f0"
      },
      "outputs": [],
      "source": [
        "variable_tensor"
      ]
    },
    {
      "cell_type": "markdown",
      "id": "69506048",
      "metadata": {
        "id": "69506048"
      },
      "source": [
        "To convert a tf.Variable to a tf.constant, you can use the tf.convert_to_tensor() function with the tf.Variable() tensor as the argument. The tf.convert_to_tensor() function will create a new tensor with the same value as the tf.Variable() tensor.\n",
        "\n",
        "Here is an example of how to convert a tf.Variable to a tf.constant:"
      ]
    },
    {
      "cell_type": "code",
      "execution_count": null,
      "id": "6c18eb0d",
      "metadata": {
        "id": "6c18eb0d"
      },
      "outputs": [],
      "source": [
        "import tensorflow as tf\n",
        "\n",
        "# Create a variable tensor\n",
        "variable_tensor = tf.Variable(10)\n",
        "\n",
        "# Convert the variable tensor to a constant tensor\n",
        "constant_tensor = tf.convert_to_tensor(variable_tensor)\n",
        "constant_tensor"
      ]
    },
    {
      "cell_type": "code",
      "execution_count": null,
      "id": "f5140252",
      "metadata": {
        "id": "f5140252"
      },
      "outputs": [],
      "source": []
    }
  ],
  "metadata": {
    "kernelspec": {
      "display_name": "Python 3",
      "name": "python3"
    },
    "language_info": {
      "codemirror_mode": {
        "name": "ipython",
        "version": 3
      },
      "file_extension": ".py",
      "mimetype": "text/x-python",
      "name": "python",
      "nbconvert_exporter": "python",
      "pygments_lexer": "ipython3",
      "version": "3.9.13"
    },
    "toc": {
      "base_numbering": 1,
      "nav_menu": {},
      "number_sections": true,
      "sideBar": true,
      "skip_h1_title": false,
      "title_cell": "Table of Contents",
      "title_sidebar": "Contents",
      "toc_cell": false,
      "toc_position": {},
      "toc_section_display": true,
      "toc_window_display": false
    },
    "varInspector": {
      "cols": {
        "lenName": 16,
        "lenType": 16,
        "lenVar": 40
      },
      "kernels_config": {
        "python": {
          "delete_cmd_postfix": "",
          "delete_cmd_prefix": "del ",
          "library": "var_list.py",
          "varRefreshCmd": "print(var_dic_list())"
        },
        "r": {
          "delete_cmd_postfix": ") ",
          "delete_cmd_prefix": "rm(",
          "library": "var_list.r",
          "varRefreshCmd": "cat(var_dic_list()) "
        }
      },
      "types_to_exclude": [
        "module",
        "function",
        "builtin_function_or_method",
        "instance",
        "_Feature"
      ],
      "window_display": false
    },
    "colab": {
      "provenance": [],
      "gpuType": "T4",
      "include_colab_link": true
    },
    "accelerator": "GPU"
  },
  "nbformat": 4,
  "nbformat_minor": 5
}